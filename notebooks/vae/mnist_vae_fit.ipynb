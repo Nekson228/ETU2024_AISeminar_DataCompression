{
 "cells": [
  {
   "cell_type": "code",
   "id": "initial_id",
   "metadata": {
    "collapsed": true
   },
   "source": [
    "from src.vae import VAE, VaeDecoderMnist, VaeEncoderMnist, negative_elbo_loss\n",
    "\n",
    "import torch\n",
    "import torch.nn as nn\n",
    "import torch.optim as optim\n",
    "\n",
    "from torchvision import datasets, transforms\n",
    "\n",
    "import matplotlib.pyplot as plt"
   ],
   "outputs": [],
   "execution_count": null
  },
  {
   "metadata": {},
   "cell_type": "code",
   "source": [
    "dataset = datasets.MNIST(root='../../data',\n",
    "                         train=True, transform=transforms.ToTensor(), download=True)"
   ],
   "id": "f24d97fd5e633cfd",
   "outputs": [],
   "execution_count": null
  },
  {
   "metadata": {},
   "cell_type": "code",
   "source": [
    "batch_size = 128\n",
    "data_loader = torch.utils.data.DataLoader(dataset, batch_size=batch_size, shuffle=True)"
   ],
   "id": "66f9b903f17c3373",
   "outputs": [],
   "execution_count": null
  },
  {
   "metadata": {},
   "cell_type": "code",
   "source": "device = torch.device('cuda' if torch.cuda.is_available() else 'cpu')",
   "id": "86f3a2eba4480016",
   "outputs": [],
   "execution_count": null
  },
  {
   "metadata": {},
   "cell_type": "code",
   "source": "latent_dim = 2",
   "id": "4d964aac6826e269",
   "outputs": [],
   "execution_count": null
  },
  {
   "metadata": {},
   "cell_type": "code",
   "source": [
    "model = VAE(VaeEncoderMnist(latent_dim),\n",
    "            VaeDecoderMnist(latent_dim)).to(device)"
   ],
   "id": "11cf82a3ecc4bcd8",
   "outputs": [],
   "execution_count": null
  },
  {
   "metadata": {},
   "cell_type": "code",
   "source": "optimizer = optim.Adam(model.parameters(), lr=1e-3)",
   "id": "58e34e567dcc4cbb",
   "outputs": [],
   "execution_count": null
  },
  {
   "metadata": {},
   "cell_type": "code",
   "source": "num_epochs = 2000",
   "id": "1a39dca5fadfbc07",
   "outputs": [],
   "execution_count": null
  },
  {
   "metadata": {},
   "cell_type": "code",
   "source": [
    "def train_epoch(epoch: int,\n",
    "                model: nn.Module,\n",
    "                train_loader: torch.utils.data.DataLoader,\n",
    "                optimizer: optim.Optimizer,\n",
    "                device: torch.device):\n",
    "    model.train()\n",
    "    train_loss = 0\n",
    "    for batch_idx, (data, _) in enumerate(train_loader):\n",
    "        data = data.view(-1, 784).to(device)\n",
    "        optimizer.zero_grad()\n",
    "\n",
    "        data_reconstructed, mu, logvar = model(data)\n",
    "        loss = negative_elbo_loss(data_reconstructed, data, mu, logvar)\n",
    "        loss.backward()\n",
    "\n",
    "        train_loss += loss.item()\n",
    "        optimizer.step()\n",
    "\n",
    "    print('====> Epoch: {} Average loss: {:.8f}'.format(epoch, train_loss / len(train_loader.dataset)))"
   ],
   "id": "b3244a271c4ea479",
   "outputs": [],
   "execution_count": null
  },
  {
   "metadata": {},
   "cell_type": "code",
   "source": [
    "for epoch in range(1, num_epochs + 1):\n",
    "    train_epoch(epoch, model, data_loader, optimizer, device)"
   ],
   "id": "f61278cb99010022",
   "outputs": [],
   "execution_count": null
  },
  {
   "metadata": {},
   "cell_type": "code",
   "source": "torch.save(model.state_dict(), '../../models/mnist_vae.pth')",
   "id": "698c9c326fb983e2",
   "outputs": [],
   "execution_count": null
  }
 ],
 "metadata": {
  "kernelspec": {
   "display_name": "Python 3",
   "language": "python",
   "name": "python3"
  },
  "language_info": {
   "codemirror_mode": {
    "name": "ipython",
    "version": 2
   },
   "file_extension": ".py",
   "mimetype": "text/x-python",
   "name": "python",
   "nbconvert_exporter": "python",
   "pygments_lexer": "ipython2",
   "version": "2.7.6"
  }
 },
 "nbformat": 4,
 "nbformat_minor": 5
}
