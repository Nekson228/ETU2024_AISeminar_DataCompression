{
 "cells": [
  {
   "cell_type": "code",
   "id": "initial_id",
   "metadata": {
    "collapsed": true,
    "ExecuteTime": {
     "end_time": "2024-12-24T18:41:46.446077Z",
     "start_time": "2024-12-24T18:41:42.212589Z"
    }
   },
   "source": [
    "from src.autoencoder import MNISTAutoEncoder\n",
    "from src.pca import PCA\n",
    "\n",
    "import torch\n",
    "\n",
    "from torchvision import datasets, transforms\n",
    "\n",
    "import matplotlib.pyplot as plt\n",
    "\n",
    "import numpy as np"
   ],
   "outputs": [],
   "execution_count": 1
  },
  {
   "metadata": {
    "ExecuteTime": {
     "end_time": "2024-12-24T18:43:27.200886Z",
     "start_time": "2024-12-24T18:43:27.101515Z"
    }
   },
   "cell_type": "code",
   "source": [
    "dataset = datasets.FashionMNIST(\n",
    "    root='../../data', train=True, download=True,\n",
    "    transform=transforms.ToTensor()\n",
    ")"
   ],
   "id": "fc4719e130d4f8c2",
   "outputs": [],
   "execution_count": 3
  },
  {
   "metadata": {
    "ExecuteTime": {
     "end_time": "2024-12-24T18:44:27.539021Z",
     "start_time": "2024-12-24T18:44:27.533678Z"
    }
   },
   "cell_type": "code",
   "source": "",
   "id": "7be297f8bfdf16ee",
   "outputs": [
    {
     "name": "stdout",
     "output_type": "stream",
     "text": [
      "Dataset FashionMNIST\n",
      "    Number of datapoints: 60000\n",
      "    Root location: ../../data\n",
      "    Split: Train\n",
      "    StandardTransform\n",
      "Transform: ToTensor()\n"
     ]
    }
   ],
   "execution_count": 4
  },
  {
   "metadata": {},
   "cell_type": "code",
   "outputs": [],
   "execution_count": null,
   "source": "",
   "id": "eb91cc2807877c35"
  }
 ],
 "metadata": {
  "kernelspec": {
   "display_name": "Python 3",
   "language": "python",
   "name": "python3"
  },
  "language_info": {
   "codemirror_mode": {
    "name": "ipython",
    "version": 2
   },
   "file_extension": ".py",
   "mimetype": "text/x-python",
   "name": "python",
   "nbconvert_exporter": "python",
   "pygments_lexer": "ipython2",
   "version": "2.7.6"
  }
 },
 "nbformat": 4,
 "nbformat_minor": 5
}
